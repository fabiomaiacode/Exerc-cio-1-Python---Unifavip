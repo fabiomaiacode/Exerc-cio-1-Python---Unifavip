{
  "cells": [
    {
      "cell_type": "markdown",
      "metadata": {
        "id": "view-in-github",
        "colab_type": "text"
      },
      "source": [
        "<a href=\"https://colab.research.google.com/github/fabiomaiacode/Exerc-cio-1-Python---Unifavip/blob/main/Exerc%C3%ADcio_1_Python.ipynb\" target=\"_parent\"><img src=\"https://colab.research.google.com/assets/colab-badge.svg\" alt=\"Open In Colab\"/></a>"
      ]
    },
    {
      "cell_type": "code",
      "execution_count": null,
      "metadata": {
        "colab": {
          "base_uri": "https://localhost:8080/"
        },
        "id": "DPNArWSYQlaf",
        "outputId": "e0298a89-cf51-4a95-f917-6f57bf1c8b6a"
      },
      "outputs": [
        {
          "output_type": "stream",
          "name": "stdout",
          "text": [
            "Alunos - PLP Unifavip 2022.2\n"
          ]
        }
      ],
      "source": [
        "#Exercício 1\n",
        "mensagem = \"Alunos - PLP Unifavip 2022.2\"\n",
        "print(mensagem)"
      ]
    },
    {
      "cell_type": "code",
      "execution_count": null,
      "metadata": {
        "id": "LknYI8mTRksc"
      },
      "outputs": [],
      "source": [
        "#Exercício 2\n",
        "numero = int (input(\"digite um númmero: \"))\n",
        "if numero >= 0:\n",
        "  print(\"O número informado foi %s\" %numero)\n",
        "else:\n",
        "  print(\"retorne digitando um número inteiro positivo\")"
      ]
    },
    {
      "cell_type": "code",
      "execution_count": null,
      "metadata": {
        "id": "e5wjIKCxbBid"
      },
      "outputs": [],
      "source": [
        "#Exercício 3\n",
        "n1 = int (input(\"digite um númmero: \"))\n",
        "n2 = int (input(\"digite um númmero: \"))\n",
        "if n1 >= 0 and n2 >= 0:\n",
        "  print(n1 + n2)\n",
        "else:\n",
        "  print(\"retorne digitando um número inteiro positivo\")"
      ]
    },
    {
      "cell_type": "code",
      "execution_count": null,
      "metadata": {
        "id": "k6rvApcSef9N"
      },
      "outputs": [],
      "source": [
        "#Exercício 4\n",
        "#Solicitando as notas\n",
        "print(\"Digite a média de cada bimestre trocando a vírgula por ponto\")\n",
        "bimestre1 = float (input(\"digite a nota do 1º bimestre: \"))\n",
        "bimestre2 = float (input(\"digite a nota do 2º bimestre: \"))\n",
        "bimestre3 = float (input(\"digite a nota do 3º bimestre: \"))\n",
        "bimestre4 = float (input(\"digite a nota do 4º bimestre: \"))\n",
        "#Calculando a média\n",
        "media = (bimestre1 + bimestre2 + bimestre3 + bimestre4) / 4\n",
        "print(\"A média foi: %s\" %media)"
      ]
    },
    {
      "cell_type": "code",
      "execution_count": null,
      "metadata": {
        "id": "Fn8lXogaifV4"
      },
      "outputs": [],
      "source": [
        "#Exercício 5\n",
        "#Solicitando a medida\n",
        "print(\"CONVERSOR DE MEDIDAS\")\n",
        "print(\"Digite o metro trocando a vírgula por ponto\")\n",
        "metro = float (input(\"metro: \"))\n",
        "#Calculando a conversão\n",
        "resultado = (metro * 100)\n",
        "print(\"centímetro: %s\" %resultado)"
      ]
    },
    {
      "cell_type": "code",
      "execution_count": null,
      "metadata": {
        "id": "RU_-CkjNliXH"
      },
      "outputs": [],
      "source": [
        "#Exercício 6\n",
        "print(\"CALCULE A ÁREA DO CÍRCULO\")\n",
        "print(\"Digite o raio trocando a vírgula por ponto\")\n",
        "raio = float (input(\"raio: \"))\n",
        "medida = (input(\"m=metro, c=centímetro, m=milímetro, km=quilometro: \"))\n",
        "area = ((raio ** 2) * 3.14159265359)\n",
        "print(\"A área do círculo é: %.2f %s ²\" % (area, medida))"
      ]
    },
    {
      "cell_type": "code",
      "execution_count": null,
      "metadata": {
        "id": "JD__nJR_BZC3"
      },
      "outputs": [],
      "source": [
        "#Exercício 7\n",
        "lado = float (input(\"Digite a medida do lado de um quadrado: \"))\n",
        "medida = (input(\"m=metro, c=centímetro, m=milímetro, km=quilometro: \"))\n",
        "area = (lado * 2)\n",
        "dobroarea = (area * 2)\n",
        "print(\"O dobro da área do quadrado é: %s %s²\" % (dobroarea, medida))"
      ]
    },
    {
      "cell_type": "code",
      "execution_count": null,
      "metadata": {
        "id": "a73vmy_RFtlD"
      },
      "outputs": [],
      "source": [
        "#Exercício 8\n",
        "print(\"CALCULADORA DE SALÁRIO\")\n",
        "print(\"troque a vírgula por ponto\")\n",
        "valorhora = float (input(\"Digite o valor da sua hora: \"))\n",
        "horastrabalhadas = float (input(\"Digite o total de horas trabalhas no mês: \"))\n",
        "calculo = (valorhora * horastrabalhadas)\n",
        "print(\"O seu salário bruto é de: R$ %s\" %calculo)"
      ]
    },
    {
      "cell_type": "code",
      "execution_count": null,
      "metadata": {
        "id": "_Wj4_jcrIDgT"
      },
      "outputs": [],
      "source": [
        "#Exercício 9\n",
        "print(\"CONVERSOR DE FAHRENHEIT PARA CELSIUS\")\n",
        "fahrenheit = int (input(\"Digite a temperatura em graus Fahrenheit: \"))\n",
        "celsius = (5 * ((fahrenheit-32)/9))\n",
        "print(\"A temperatura em graus Celsius é de: %.0f °C\" %celsius)"
      ]
    },
    {
      "cell_type": "code",
      "execution_count": null,
      "metadata": {
        "id": "lH3aXFmELCoA"
      },
      "outputs": [],
      "source": [
        "#Exercício 10\n",
        "print(\"CONVERSOR DE CELSIUS PARA FAHRENHEIT\")\n",
        "celsius = int (input(\"Digite a temperatura em graus Celsius: \"))\n",
        "fahrenheit = (celsius * 1.8 + 32)\n",
        "print(\"A temperatura em graus Fahrenheit é de: %.0f °F\" %fahrenheit)"
      ]
    },
    {
      "cell_type": "code",
      "execution_count": null,
      "metadata": {
        "id": "jdpjJrqnNIBt"
      },
      "outputs": [],
      "source": [
        "#Exercício 11\n",
        "inteiro1 = int (input(\"Digite um número inteiro: \"))\n",
        "inteiro2 = int (input(\"Digite um número inteiro: \"))\n",
        "real = float (input(\"Digite um número real: \"))\n",
        "a = ((inteiro1 * 2) * (inteiro2 / 2))\n",
        "print(a)\n",
        "b = ((inteiro1 * 3) + real)\n",
        "print(b)\n",
        "c = (real**3)\n",
        "print(c)"
      ]
    },
    {
      "cell_type": "code",
      "execution_count": null,
      "metadata": {
        "id": "RCRYRGK-RUZG"
      },
      "outputs": [],
      "source": [
        "#Exercício 12\n",
        "print(\"CALCULADORA DE PESO IDEAL 1\")\n",
        "print(\"troque vírgula por pontos\")\n",
        "altura = float (input(\"Informe a sua altura: \"))\n",
        "pesoideal = (72.7 * altura - 58)\n",
        "print (\"Seu peso ideal é de: %s kg\" %pesoideal)"
      ]
    },
    {
      "cell_type": "code",
      "execution_count": null,
      "metadata": {
        "id": "cgzglCm5TrYh"
      },
      "outputs": [],
      "source": [
        "#Exercício 13\n",
        "print(\"CALCULADORA DE PESO IDEAL PARA HOMENS E MULHERES\")\n",
        "print(\"troque vírgula por pontos\")\n",
        "altura = float (input(\"Digite sua altura: \"))\n",
        "homens = (72.7 * altura - 58)\n",
        "mulheres = (62.1 * altura - 44.7)\n",
        "print(\"Peso ideal para Homens: %.2f kg\" %homens)\n",
        "print(\"Peso ideal para Mulheres: %.2f kg\" %mulheres)"
      ]
    },
    {
      "cell_type": "code",
      "execution_count": null,
      "metadata": {
        "id": "UXn7wctjWCIe"
      },
      "outputs": [],
      "source": [
        "#Exercício 14\n",
        "print(\"CALCULADORA DE TAXA DE EXCESSO DE PESCA\")\n",
        "pesopescado = float (input(\"Digite o peso pescado em kg: \"))\n",
        "excesso = float (pesopescado - 50)\n",
        "multa = float (excesso * 4.00)\n",
        "\n",
        "if pesopescado > 50:\n",
        "  print(\"O valor da multa a ser paga é de: R$ %.2f\" %multa)\n",
        "else:\n",
        "  print(\"O peso pescado foi menor e não há multa a ser paga!\")"
      ]
    },
    {
      "cell_type": "code",
      "execution_count": null,
      "metadata": {
        "id": "QJ36mXsTY6KF"
      },
      "outputs": [],
      "source": [
        "#Exercício 15\n",
        "print(\"CALCULADORA DE SALÁRIO\")\n",
        "print(\"troque vírgula por ponto\")\n",
        "#Calculando Salário Bruto\n",
        "valorhora = float (input(\"Digite o valor da sua hora: \"))\n",
        "horastotal = float (input(\"Digite a quantidade de horas: \"))\n",
        "salariobruto = float (valorhora * horastotal)\n",
        "#Calculando Salário Líquido\n",
        "ir = float (salariobruto * 0.11)\n",
        "inss = float (salariobruto * 0.08)\n",
        "sindicato = float (salariobruto * 0.05)\n",
        "descontos = float (ir + inss + sindicato)\n",
        "salarioliquido = float (salariobruto - ir - inss - sindicato)\n",
        "print(\"Salário Bruto: R$ %.2f\" %salariobruto)\n",
        "print(\"INSS: R$ %.2f\" %inss)\n",
        "print(\"IR: R$ %.2f\" %ir)\n",
        "print(\"Sindicato: R$ %.2f\" %sindicato)\n",
        "print(\"Total dos Descontos: R$ %.2f\" %descontos)\n",
        "print(\"Salário Líquido: R$ %.2f\" %salarioliquido)"
      ]
    },
    {
      "cell_type": "code",
      "execution_count": null,
      "metadata": {
        "id": "fnaYe7HvdZlR"
      },
      "outputs": [],
      "source": [
        "#Exercício 16\n",
        "print(\"CALCULDORA DE TINTAS\")\n",
        "areaaserpintada = float (input(\"Área a ser pintada em m²: \"))\n",
        "preçolata = 80.00\n",
        "litroslata = 18\n",
        "coberturametros = (litroslata * 3)\n",
        "latasnecessarias = float (areaaserpintada / coberturametros)\n",
        "preçototal = float (preçolata * latasnecessarias) \n",
        "print(\"Você precisará de %.0f latas e isso custará R$ %.2f\" % (latasnecessarias, preçototal))"
      ]
    },
    {
      "cell_type": "code",
      "execution_count": null,
      "metadata": {
        "id": "csvVYDRCLdxI"
      },
      "outputs": [],
      "source": [
        "#Exercício 17\n",
        "print(\"CALCULDORA DE TINTAS AVANÇADO\")\n",
        "areaaserpintada = float (input(\"Área a ser pintada em m²: \"))\n",
        "acrescimoarea = round(areaaserpintada * 1.1)\n",
        "preçolata = 80\n",
        "preçogalao = 25\n",
        "litroslata = 18\n",
        "litrosgalao = 3.6\n",
        "coberturalata = float (litroslata * 6)\n",
        "coberturagalao = float (litrosgalao * 6)\n",
        "latasnecessariasarredondado = round(areaaserpintada / coberturalata + 0.5)\n",
        "latasnecessariasarredondadoacrescimo = round(acrescimoarea / coberturalata - 0.5)\n",
        "latasnecessariasbaixo = int (latasnecessariasarredondado - 0.5)\n",
        "galoesnecessarios = float (areaaserpintada / coberturagalao)\n",
        "galoesnecessariosarredondado = round(galoesnecessarios + 0.5)\n",
        "galoesnecessariasarredondadoacrescimo = round(acrescimoarea / coberturagalao + 0.5)\n",
        "preçototallata = float (preçolata * latasnecessariasarredondado)\n",
        "preçototalgalao = float (preçogalao * galoesnecessariosarredondado)\n",
        "sobralatas = float (acrescimoarea / coberturalata)\n",
        "sobralatascalculo = float (sobralatas - latasnecessariasarredondadoacrescimo)\n",
        "sobralatasmetros = round(sobralatascalculo * coberturalata + 0.5)\n",
        "sobragaloes = round(sobralatasmetros / coberturagalao + 0.5)\n",
        "preçofinalsobra = float (sobragaloes * preçogalao)\n",
        "preçofinallata = float (latasnecessariasarredondadoacrescimo * preçolata)\n",
        "preçofinaltotal = float (preçofinalsobra + preçofinallata)\n",
        "print(\"Você precisará de %.0f latas e isso custará R$ %.2f\" % (latasnecessariasarredondado, preçototallata))\n",
        "print(\"ou\")\n",
        "print(\"Você precisará de %.0f galões e isso custará R$ %.2f\" % (galoesnecessariosarredondado, preçototalgalao))\n",
        "print(\"ou sendo mais preciso...\")\n",
        "print(\"Você precisará de %.0f latas e %.0f galões e o valor total já acrescentado da folga será de R$ %.2f\" % (latasnecessariasarredondadoacrescimo, sobragaloes, preçofinaltotal))"
      ]
    },
    {
      "cell_type": "code",
      "execution_count": null,
      "metadata": {
        "id": "SbzXKrfcpWVD"
      },
      "outputs": [],
      "source": [
        "#Exercício 18\n",
        "print(\"TEMPO DE DOWNLOAD\")\n",
        "tamanho = int (input(\"Qual o tamanho do seu arquivo em MB? \"))\n",
        "velocidade = int (input(\"Qual a velocidade de sua internet em MBps? \"))\n",
        "resultado = round((tamanho) / (velocidade/8.4))\n",
        "print(\"O download será realizado em %s segundos\" %resultado)"
      ]
    },
    {
      "cell_type": "code",
      "execution_count": null,
      "metadata": {
        "id": "QWLGOUZx27M6"
      },
      "outputs": [],
      "source": [
        "#Exercício 19\n",
        "lista = []\n",
        "inteiro1 = (input(\"Digite um número inteiro: \"))\n",
        "lista.append(inteiro1)\n",
        "inteiro2 = (input(\"Digite outro número inteiro: \"))\n",
        "lista.append(inteiro2)\n",
        "inteiro3 = (input(\"Digite um último número inteiro: \"))\n",
        "lista.append(inteiro3)\n",
        "pesquisa = (input(\"Digite um número para pesquisar: \"))\n",
        "def search(lista, valor):\n",
        "    for i, sublista in enumerate(lista):\n",
        "        yield from ((i, j) for j, item in enumerate(sublista) if item == valor)\n",
        "print( list(search(lista, pesquisa)) )\n"
      ]
    },
    {
      "cell_type": "code",
      "execution_count": null,
      "metadata": {
        "id": "yzCECeHuUcR8"
      },
      "outputs": [],
      "source": [
        "#Exercício 19\n",
        "lista = []\n",
        "inteiro1 = (input(\"Digite um número inteiro: \"))\n",
        "lista.append(inteiro1)\n",
        "inteiro2 = (input(\"Digite outro número inteiro: \"))\n",
        "lista.append(inteiro2)\n",
        "inteiro3 = (input(\"Digite um último número inteiro: \"))\n",
        "lista.append(inteiro3)\n",
        "pesquisa = (input(\"Digite um número para pesquisar sua posição na lista: \"))\n",
        "valor = pesquisa\n",
        "pos = -1\n",
        "for i in range(len(lista)-1,-1,-1):\n",
        "  if lista[i] == valor:\n",
        "    pos = i\n",
        "print(pos)"
      ]
    },
    {
      "cell_type": "code",
      "execution_count": null,
      "metadata": {
        "id": "friR5UjNUsa8"
      },
      "outputs": [],
      "source": [
        "#Exercício 20\n",
        "print(\"NÃO CONSEGUI\")"
      ]
    },
    {
      "cell_type": "code",
      "execution_count": null,
      "metadata": {
        "id": "rjBx57HdZCOs"
      },
      "outputs": [],
      "source": [
        "#Exercício 21\n",
        "print(\"NÃO CONSEGUI\")"
      ]
    },
    {
      "cell_type": "code",
      "execution_count": null,
      "metadata": {
        "id": "IapBjLzCbQJI"
      },
      "outputs": [],
      "source": [
        "#Exercício 22\n",
        "letra = (input(\"Digite uma letra: \"))\n",
        "def vogal_ou_consoante(letra):\n",
        "    letra = letra.lower()\n",
        "    if letra in ('a', 'e', 'i', 'o', 'u'):\n",
        "        print(\"Vogal\")\n",
        "    elif letra in ('b', 'c', 'd', 'f', 'g', 'h', 'j', 'k', 'l', 'm', 'n', 'p', 'q', 'r', 's', 't', 'v', 'w', 'x', 'y', 'z'):\n",
        "        print(\"Consoante\")\n",
        "    else:\n",
        "        print('Não é vogal nem consoante')\n",
        "print(vogal_ou_consoante(letra))"
      ]
    },
    {
      "cell_type": "code",
      "execution_count": null,
      "metadata": {
        "id": "Vdp1sv_beIBs"
      },
      "outputs": [],
      "source": [
        "#Exercício 23\n",
        "nota1 = float (input(\"Digite sua primeira nota: \"))\n",
        "nota2 = float (input(\"Digite sua primeira nota: \"))\n",
        "media = float ((nota1 + nota2) / (2))\n",
        "print(\"A média foi: %s\" %media)\n",
        "if media == 10:\n",
        "  print(\"Aprovado com Distinção\")\n",
        "elif media >= 7:\n",
        "  print(\"Aprovado\")\n",
        "else:\n",
        "  print(\"Reprovado\")"
      ]
    },
    {
      "cell_type": "code",
      "execution_count": null,
      "metadata": {
        "id": "oePGBI5-cVNd"
      },
      "outputs": [],
      "source": [
        "#Exercício 24\n",
        "lista = []\n",
        "palavra1 = (input(\"Digite uma palavra: \"))\n",
        "lista.append(palavra1)\n",
        "palavra2 = (input(\"Digite outra palavra: \"))\n",
        "lista.append(palavra2)\n",
        "palavra3 = (input(\"Digite uma última palavra: \"))\n",
        "lista.append(palavra3)\n",
        "print(lista)\n",
        "valormaximo = max(lista)\n",
        "print('A maior palavra é:', valormaximo)\n",
        "print(\"Quantidade de caracteres:\", len(valormaximo))"
      ]
    },
    {
      "cell_type": "code",
      "execution_count": null,
      "metadata": {
        "id": "wJGf6cm_dnUl"
      },
      "outputs": [],
      "source": [
        "#Exercício 25\n",
        "lista = []\n",
        "numero1 = float (input(\"Digite um número: \"))\n",
        "lista.append(numero1)\n",
        "numero2 = float (input(\"Digite outro número: \"))\n",
        "lista.append(numero2)\n",
        "numero3 = float (input(\"Digite um último número: \"))\n",
        "lista.append(numero3)\n",
        "print(lista)\n",
        "valormaximo = max(lista)\n",
        "print('O maior número é:', valormaximo)\n",
        "valorminimo = min(lista)\n",
        "print('O menor número é:', valorminimo)"
      ]
    },
    {
      "cell_type": "code",
      "execution_count": null,
      "metadata": {
        "id": "eUu6xAFVpl2j"
      },
      "outputs": [],
      "source": [
        "#Exercício 26\n",
        "preco1 = float(input(\"Digite o preço do produto 1: \"))\n",
        "preco2 = float(input(\"Digite o preço do produto 2: \"))\n",
        "preco3 = float(input(\"Digite o preço do produto 3: \"))\n",
        "if preco1 < preco2 and preco1 < preco3:\n",
        "    print(f\"O produto com o menor preco é o 1, custando R$ {preco1:.2f}\")\n",
        "elif preco2 < preco1 and preco2 < preco3:\n",
        "    print(f\"O produto com o menor preco é o 2, custando R$ {preco2:.2f}\")\n",
        "else:\n",
        "    print(f\"O produto com o menor preco é o 3, custando R$ {preco3:.2f}\")"
      ]
    },
    {
      "cell_type": "code",
      "execution_count": null,
      "metadata": {
        "id": "cu-W_b9OyKlz"
      },
      "outputs": [],
      "source": [
        "#Exercício 27\n",
        "lista = []\n",
        "numero1 = float (input(\"Digite um número: \"))\n",
        "lista.append(numero1)\n",
        "numero2 = float (input(\"Digite outro número: \"))\n",
        "lista.append(numero2)\n",
        "numero3 = float (input(\"Digite um último número: \"))\n",
        "lista.append(numero3)\n",
        "lista.sort(reverse = True)\n",
        "print(lista)"
      ]
    },
    {
      "cell_type": "code",
      "execution_count": null,
      "metadata": {
        "id": "tubRDXyBz8Ej"
      },
      "outputs": [],
      "source": [
        "#Exercício 28\n",
        "turno = input(\"Qual turno você estuda, use M para Matutino, V para Vespertino ou N para Noturno? \")\n",
        "if turno == \"M\":\n",
        "  print(\"Bom Dia!\")\n",
        "elif turno == \"V\":\n",
        "  print(\"Boa Tarde!\")\n",
        "elif turno == \"N\":\n",
        "  print(\"Boa Noite!\")\n",
        "else:\n",
        "  print(\"Valor Inválido! Digite em letras maiúsculas M para Matutino, V para Vespertino ou N para Noturno\")"
      ]
    },
    {
      "cell_type": "code",
      "execution_count": null,
      "metadata": {
        "id": "mzIpx7DKCfTo"
      },
      "outputs": [],
      "source": [
        "#Exercício 29\n",
        "salario = float (input(\"Informe seu salário: R$ \"))\n",
        "print(f\"Salário antes do reajuste era de R$ {salario:,.2f}\")\n",
        "if salario <= 280:\n",
        "  print(\"O percentual de aumento aplicado foi de 20%\")\n",
        "  salario1 = salario * 1.2\n",
        "  aumento1 = salario1 - salario\n",
        "  print(f\"O valor do aumento foi de: R$ {aumento1:,.2f}\")\n",
        "  print(f\"O novo salário após o aumento foi de: R$ {salario1:,.2f}\")\n",
        "elif salario > 280 and salario <= 700:\n",
        "  print(\"O percentual de aumento aplicado foi de 15%\")\n",
        "  salario2 = salario * 1.15\n",
        "  aumento2 = salario2 - salario\n",
        "  print(f\"O valor do aumento foi de: R$ {aumento2:,.2f}\")\n",
        "  print(f\"O novo salário após o aumento foi de: R$ {salario2:,.2f}\")\n",
        "elif salario > 700 and salario <= 1500:\n",
        "  print(\"O percentual de aumento aplicado foi de 10%\")\n",
        "  salario3 = salario * 1.1\n",
        "  aumento3 = salario3 - salario\n",
        "  print(f\"O valor do aumento foi de: R$ {aumento3:,.2f}\")\n",
        "  print(f\"O novo salário após o aumento foi de: R$ {salario3:,.2f}\")\n",
        "elif salario > 1500:\n",
        "  print(\"O percentual de aumento aplicado foi de 5%\")\n",
        "  salario4 = salario * 1.05\n",
        "  aumento4 = salario4 - salario\n",
        "  print(f\"O valor do aumento foi de: R$ {aumento4:,.2f}\")\n",
        "  print(f\"O novo salário após o aumento foi de: R$ {salario4:,.2f}\")"
      ]
    },
    {
      "cell_type": "code",
      "execution_count": null,
      "metadata": {
        "id": "XDfr9E_nSRua"
      },
      "outputs": [],
      "source": [
        "#Exercício 31\n",
        "valorhora = float (input(\"Informe o valor de sua hora: R$ \"))\n",
        "horastrabalhadas = float (input(\"Informe a quantidade de horas trabalhadas no mês: \"))\n",
        "salariobruto = valorhora * horastrabalhadas\n",
        "if salariobruto <= 900:\n",
        "  ir = 0\n",
        "  irmsg = \"isento\"\n",
        "elif salariobruto > 900 and salariobruto <= 1500:\n",
        "  ir = salariobruto * 0.05\n",
        "  irmsg = \"5%\"\n",
        "elif salariobruto > 1500 and salariobruto <= 2500:\n",
        "  ir = salariobruto * 0.10\n",
        "  irmsg = \"10%\"\n",
        "elif salariobruto > 2500:\n",
        "  ir = salariobruto * 0.2\n",
        "  irmsg = \"20%\"\n",
        "inss = salariobruto * 0.10\n",
        "sindicato = salariobruto * 0.03\n",
        "fgts = salariobruto * 0.11\n",
        "descontos = inss + ir + sindicato\n",
        "salarioliquido = salariobruto - ir - inss - sindicato\n",
        "print(f\"Salário Bruto: R$ {salariobruto:,.2f}\")\n",
        "print(f\"IR ({irmsg}): R$ {ir:,.2f}\")\n",
        "print(f\"INSS (10%): R$ {inss:,.2f}\")\n",
        "print(f\"FGTS (11%): R$ {fgts:,.2f}\")\n",
        "print(f\"Sindicato (3%): R$ {sindicato:,.2f}\")\n",
        "print(f\"Total de Descontos: R$ {descontos:,.2f}\")\n",
        "print(f\"Salário Líquido: R$ {salarioliquido:,.2f}\")"
      ]
    },
    {
      "cell_type": "code",
      "execution_count": null,
      "metadata": {
        "id": "Ptirb88mAtLw"
      },
      "outputs": [],
      "source": [
        "#Exercício 32\n",
        "print(\"Senhor(a) Policial, responda as questões abaixo somente com s para sim ou n para não\")\n",
        "lista = []\n",
        "questao1 = input(\"Telefonou para a vítima? \")\n",
        "if questao1 == \"s\":\n",
        "  lista.append(1)\n",
        "questao2 = input(\"Esteve no local do crime? \")\n",
        "if questao2 == \"s\":\n",
        "  lista.append(1)\n",
        "questao3 = input(\"Mora perto da vítima? \")\n",
        "if questao3 == \"s\":\n",
        "  lista.append(1)\n",
        "questao4 = input(\"Devia para a vítima? \")\n",
        "if questao4 == \"s\":\n",
        "  lista.append(1)\n",
        "questao5 = input(\"Já trabalhou com a vítima? \")\n",
        "if questao5 == \"s\":\n",
        "  lista.append(1)\n",
        "\n",
        "listasoma = sum(lista)\n",
        "\n",
        "if listasoma <= 2:\n",
        "  print(\"Classificação: Inocente\")\n",
        "elif listasoma > 2 and listasoma < 5:\n",
        "  print(\"Classificação: Cúmplice\")\n",
        "elif listasoma == 5:\n",
        "  print(\"Classificação: Assassino\")"
      ]
    },
    {
      "cell_type": "code",
      "execution_count": null,
      "metadata": {
        "id": "-cr0NXoJrbh-"
      },
      "outputs": [],
      "source": [
        "#Exercício 33.1\n",
        "\n",
        "nome1 = input(\"Nome: \")\n",
        "mat1 = input(\"Matrícula: \")\n",
        "nota11 = float(input(\"Nota1 = \"))\n",
        "nota21 = float(input(\"Nota2 = \"))\n",
        "media1 = ((nota11 + nota21) / 2)\n",
        "\n",
        "nome2 = input(\"Nome: \")\n",
        "mat2 = input(\"Matrícula: \")\n",
        "nota12 = float(input(\"Nota1 = \"))\n",
        "nota22 = float(input(\"Nota2 = \"))\n",
        "media2 = ((nota12 + nota22) / 2)\n",
        "\n",
        "nome3 = input(\"Nome: \")\n",
        "mat3 = input(\"Matrícula: \")\n",
        "nota13 = float(input(\"Nota1 = \"))\n",
        "nota23 = float(input(\"Nota2 = \"))\n",
        "media3 = ((nota13 + nota23) / 2)\n",
        "\n",
        "nome4 = input(\"Nome: \")\n",
        "mat4 = input(\"Matrícula: \")\n",
        "nota14 = float(input(\"Nota1 = \"))\n",
        "nota24 = float(input(\"Nota2 = \"))\n",
        "media4 = ((nota14 + nota24) / 2)\n",
        "\n",
        "nome5 = input(\"Nome: \")\n",
        "mat5 = input(\"Matrícula: \")\n",
        "nota15 = float(input(\"Nota1 = \"))\n",
        "nota25 = float(input(\"Nota2 = \"))\n",
        "media5 = ((nota15 + nota25) / 2)\n",
        "\n",
        "nome6 = input(\"Nome: \")\n",
        "mat6 = input(\"Matrícula: \")\n",
        "nota16 = float(input(\"Nota1 = \"))\n",
        "nota26 = float(input(\"Nota2 = \"))\n",
        "media6 = ((nota16 + nota26) / 2)\n",
        "\n",
        "nome7 = input(\"Nome: \")\n",
        "mat7 = input(\"Matrícula: \")\n",
        "nota17 = float(input(\"Nota1 = \"))\n",
        "nota27 = float(input(\"Nota2 = \"))\n",
        "media7 = ((nota17 + nota27) / 2)\n",
        "\n",
        "nome8 = input(\"Nome: \")\n",
        "mat8 = input(\"Matrícula: \")\n",
        "nota18 = float(input(\"Nota1 = \"))\n",
        "nota28 = float(input(\"Nota2 = \"))\n",
        "media8 = ((nota18 + nota28) / 2)\n",
        "\n",
        "nome9 = input(\"Nome: \")\n",
        "mat9 = input(\"Matrícula: \")\n",
        "nota19 = float(input(\"Nota1 = \"))\n",
        "nota29 = float(input(\"Nota2 = \"))\n",
        "media9 = ((nota19 + nota29) / 2)\n",
        "\n",
        "nome10 = input(\"Nome: \")\n",
        "mat10 = input(\"Matrícula: \")\n",
        "nota110 = float(input(\"Nota1 = \"))\n",
        "nota210 = float(input(\"Nota2 = \"))\n",
        "media10 = ((nota110 + nota210) / 2)\n",
        "\n",
        "nome11 = input(\"Nome: \")\n",
        "mat11 = input(\"Matrícula: \")\n",
        "nota111 = float(input(\"Nota1 = \"))\n",
        "nota211 = float(input(\"Nota2 = \"))\n",
        "media11 = ((nota111 + nota211) / 2)\n",
        "\n",
        "nome12 = input(\"Nome: \")\n",
        "mat12 = input(\"Matrícula: \")\n",
        "nota112 = float(input(\"Nota1 = \"))\n",
        "nota212 = float(input(\"Nota2 = \"))\n",
        "media12 = ((nota112 + nota212) / 2)\n",
        "\n",
        "nome13 = input(\"Nome: \")\n",
        "mat13 = input(\"Matrícula: \")\n",
        "nota113 = float(input(\"Nota1 = \"))\n",
        "nota213 = float(input(\"Nota2 = \"))\n",
        "media13 = ((nota113 + nota213) / 2)\n",
        "\n",
        "print(\"RELATÓRIO DE ALUNOS\")\n",
        "print(\"Nome: %s, Matrícula: %s, Média: %.2f\" % (nome1, mat1, media1))\n",
        "print(\"Nome: %s, Matrícula: %s, Média: %.2f\" % (nome2, mat2, media2))\n",
        "print(\"Nome: %s, Matrícula: %s, Média: %.2f\" % (nome3, mat3, media3))\n",
        "print(\"Nome: %s, Matrícula: %s, Média: %.2f\" % (nome4, mat4, media4))\n",
        "print(\"Nome: %s, Matrícula: %s, Média: %.2f\" % (nome5, mat5, media5))\n",
        "print(\"Nome: %s, Matrícula: %s, Média: %.2f\" % (nome6, mat6, media6))\n",
        "print(\"Nome: %s, Matrícula: %s, Média: %.2f\" % (nome7, mat7, media7))\n",
        "print(\"Nome: %s, Matrícula: %s, Média: %.2f\" % (nome8, mat8, media8))\n",
        "print(\"Nome: %s, Matrícula: %s, Média: %.2f\" % (nome9, mat9, media9))\n",
        "print(\"Nome: %s, Matrícula: %s, Média: %.2f\" % (nome10, mat10, media10))\n",
        "print(\"Nome: %s, Matrícula: %s, Média: %.2f\" % (nome11, mat11, media11))\n",
        "print(\"Nome: %s, Matrícula: %s, Média: %.2f\" % (nome12, mat12, media12))\n",
        "print(\"Nome: %s, Matrícula: %s, Média: %.2f\" % (nome13, mat13, media13))"
      ]
    },
    {
      "cell_type": "code",
      "execution_count": null,
      "metadata": {
        "id": "0VR6vESFMyVe"
      },
      "outputs": [],
      "source": [
        "#Exercício 33.2\n",
        "listas = [[[[]]]]\n",
        "\n",
        "while True:\n",
        "    print(\"1-Cadastrar Aluno\")\n",
        "    print(\"2-Relatório dos Cadastros\")\n",
        "    op = int(input())#Escolha da opcao\n",
        "    if op == 1:\n",
        "        dados = []#cria uma lista para adicionar o nome e a matrícula do aluno\n",
        "        media = []#cria uma lista para adicionar a média do aluno\n",
        "        notas = []#cria uma lista para adicionar as notas do aluno\n",
        "        nome = input(\"Nome: \")\n",
        "        matricula = int(input(\"Matrícula: \"))\n",
        "        nota1 = float (input(\"Nota 1: \"))\n",
        "        nota2 = float (input(\"Nota 2: \"))\n",
        "        medianotas = ((nota1 + nota2) / (2))\n",
        "        dados.append(nome)\n",
        "        dados.append(matricula)\n",
        "        notas.append(nota1)\n",
        "        notas.append(nota2)\n",
        "        media.append(medianotas)\n",
        "        listas.append(dados)#Adiciona a primeira lista criada com os dados dentro da lista geral\n",
        "        listas.append(media)#Adiciona a segunda lista com a média dentro da lista geral\n",
        "        listas.append(notas)#Adiciona a terceira lista com as notas dentro da lista geral\n",
        "    \n",
        "\n",
        "    elif op == 2:\n",
        "        for mostrar in listas:\n",
        "            for mostrar2 in mostrar:\n",
        "                print(mostrar2)#mostra tudo dentro da lista\n",
        "    "
      ]
    },
    {
      "cell_type": "code",
      "execution_count": null,
      "metadata": {
        "colab": {
          "background_save": true
        },
        "id": "2mwmmGCGaSCD"
      },
      "outputs": [],
      "source": [
        "#Exercício 34\n",
        "\n",
        "def exibir_menu():\n",
        "    print('''Escolha uma opção:\n",
        "\n",
        "    1. Cadastrar uma pessoa\n",
        "    2. Listar pessoas cadastradas\n",
        "    3. Procurar dados de uma pessoa\n",
        "    ''')\n",
        "\n",
        "def cadastrar(pessoas):\n",
        "    nome = input('Nome: ')\n",
        "    altura = float(input('Altura: '))\n",
        "    peso = int(input('Peso: '))\n",
        "    cpf = int(input('CPF: '))\n",
        "    sexo = input('Sexo: M para Masculino ou F para Feminino: ')\n",
        "    imc = float((peso) / (altura**2))\n",
        "    pessoas.append((nome, altura, peso, cpf, sexo, imc))\n",
        "\n",
        "def listar(pessoas):\n",
        "    for pessoa in pessoas:\n",
        "        nome, altura, peso, cpf, sexo, imc = pessoa\n",
        "        print(f'Nome: {nome}, altura: {altura}, peso: {peso}, cpf {cpf}, sexo {sexo}, IMC {imc:.2f}')\n",
        "\n",
        "def buscar(pessoas):\n",
        "    cpf_desejado = int(input('CPF: '))\n",
        "    for pessoa in pessoas:\n",
        "        nome, altura, peso, cpf, sexo, imc = pessoa\n",
        "        if cpf == cpf_desejado:\n",
        "            print(f'Nome: {nome}, IMC: {imc:.2f}')\n",
        "            break\n",
        "    else:\n",
        "        print(f'Pessoa com CPF {cpf_desejado} não encontrada')\n",
        "\n",
        "def main():\n",
        "    pessoas = []\n",
        "\n",
        "    while True:\n",
        "        exibir_menu()\n",
        "        opcao = int(input('Opção? '))\n",
        "        if opcao == 1:\n",
        "            cadastrar(pessoas)\n",
        "        elif opcao == 2:\n",
        "            listar(pessoas)\n",
        "        elif opcao == 3:\n",
        "            buscar(pessoas)\n",
        "        else:\n",
        "            print('Opção Inválida')\n",
        "\n",
        "main()"
      ]
    }
  ],
  "metadata": {
    "colab": {
      "collapsed_sections": [],
      "provenance": [],
      "authorship_tag": "ABX9TyM30+NY+WB4pCgy2WGfP41t",
      "include_colab_link": true
    },
    "kernelspec": {
      "display_name": "Python 3",
      "name": "python3"
    },
    "language_info": {
      "name": "python"
    }
  },
  "nbformat": 4,
  "nbformat_minor": 0
}